{
 "cells": [
  {
   "cell_type": "code",
   "execution_count": 7,
   "metadata": {},
   "outputs": [
    {
     "data": {
      "text/plain": [
       "True"
      ]
     },
     "execution_count": 7,
     "metadata": {},
     "output_type": "execute_result"
    }
   ],
   "source": [
    "import os\n",
    "from dotenv import load_dotenv\n",
    "\n",
    "from datasets import load_dataset\n",
    "import pandas as pd\n",
    "\n",
    "\n",
    "load_dotenv()"
   ]
  },
  {
   "cell_type": "code",
   "execution_count": 2,
   "metadata": {},
   "outputs": [
    {
     "name": "stderr",
     "output_type": "stream",
     "text": [
      "/home/octoopt/anaconda3/envs/octo/lib/python3.10/site-packages/datasets/load.py:2554: FutureWarning: 'use_auth_token' was deprecated in favor of 'token' in version 2.14.0 and will be removed in 3.0.0.\n",
      "You can remove this warning by passing 'token=<use_auth_token>' instead.\n",
      "  warnings.warn(\n",
      "Downloading readme: 100%|██████████| 10.7k/10.7k [00:00<00:00, 9.82MB/s]\n",
      "Downloading data: 100%|██████████| 79.7k/79.7k [00:01<00:00, 44.2kB/s]\n",
      "Downloading data: 100%|██████████| 689k/689k [00:02<00:00, 293kB/s]\n",
      "Generating test split: 100%|██████████| 940/940 [00:00<00:00, 30558.41 examples/s]\n",
      "Generating train split: 100%|██████████| 8960/8960 [00:00<00:00, 483816.93 examples/s]\n"
     ]
    },
    {
     "data": {
      "text/plain": [
       "DatasetDict({\n",
       "    test: Dataset({\n",
       "        features: ['text', 'target_group', 'factual?', 'ingroup_effect', 'lewd', 'framing', 'predicted_group', 'stereotyping', 'intent', 'toxicity_ai', 'toxicity_human', 'predicted_author', 'actual_method'],\n",
       "        num_rows: 940\n",
       "    })\n",
       "    train: Dataset({\n",
       "        features: ['text', 'target_group', 'factual?', 'ingroup_effect', 'lewd', 'framing', 'predicted_group', 'stereotyping', 'intent', 'toxicity_ai', 'toxicity_human', 'predicted_author', 'actual_method'],\n",
       "        num_rows: 8960\n",
       "    })\n",
       "})"
      ]
     },
     "execution_count": 2,
     "metadata": {},
     "output_type": "execute_result"
    }
   ],
   "source": [
    "HF_API_KEY = os.getenv(\"HF_API_KEY\")\n",
    "ds = load_dataset(\"toxigen/toxigen-data\", token=HF_API_KEY)\n",
    "ds"
   ]
  },
  {
   "cell_type": "code",
   "execution_count": 2,
   "metadata": {},
   "outputs": [
    {
     "ename": "TypeError",
     "evalue": "Can't instantiate abstract class Chile with abstract method detect",
     "output_type": "error",
     "traceback": [
      "\u001b[0;31m---------------------------------------------------------------------------\u001b[0m",
      "\u001b[0;31mTypeError\u001b[0m                                 Traceback (most recent call last)",
      "Cell \u001b[0;32mIn[2], line 19\u001b[0m\n\u001b[1;32m     14\u001b[0m     \u001b[38;5;28;01mdef\u001b[39;00m \u001b[38;5;21mclassify\u001b[39m(\u001b[38;5;28mself\u001b[39m, content, label):\n\u001b[1;32m     15\u001b[0m         \u001b[38;5;28mprint\u001b[39m(content, label)\n\u001b[0;32m---> 19\u001b[0m chile \u001b[38;5;241m=\u001b[39m \u001b[43mChile\u001b[49m\u001b[43m(\u001b[49m\u001b[43m)\u001b[49m\n\u001b[1;32m     20\u001b[0m chile\u001b[38;5;241m.\u001b[39mclassify(content\u001b[38;5;241m=\u001b[39m\u001b[38;5;124m\"\u001b[39m\u001b[38;5;124mHello\u001b[39m\u001b[38;5;124m\"\u001b[39m, \n\u001b[1;32m     21\u001b[0m              label\u001b[38;5;241m=\u001b[39m\u001b[38;5;124m\"\u001b[39m\u001b[38;5;124mworlds\u001b[39m\u001b[38;5;124m\"\u001b[39m)\n",
      "\u001b[0;31mTypeError\u001b[0m: Can't instantiate abstract class Chile with abstract method detect"
     ]
    }
   ],
   "source": [
    "from abc import ABC, abstractmethod\n",
    "\n",
    "\n",
    "class Base(ABC):\n",
    "    @abstractmethod\n",
    "    def detect(self, content):\n",
    "        raise NotImplementedError\n",
    "\n",
    "\n",
    "class Chile(Base):\n",
    "    def classify(self, content, label):\n",
    "        print(content, label)\n",
    "\n",
    "\n",
    "chile = Chile()\n",
    "chile.classify(content=\"Hello\", label=\"worlds\")"
   ]
  },
  {
   "cell_type": "code",
   "execution_count": 3,
   "metadata": {},
   "outputs": [],
   "source": [
    "train_ds = ds[\"train\"]\n",
    "test_ds = ds[\"test\"]"
   ]
  },
  {
   "cell_type": "code",
   "execution_count": 9,
   "metadata": {},
   "outputs": [
    {
     "data": {
      "text/html": [
       "<div>\n",
       "<style scoped>\n",
       "    .dataframe tbody tr th:only-of-type {\n",
       "        vertical-align: middle;\n",
       "    }\n",
       "\n",
       "    .dataframe tbody tr th {\n",
       "        vertical-align: top;\n",
       "    }\n",
       "\n",
       "    .dataframe thead th {\n",
       "        text-align: right;\n",
       "    }\n",
       "</style>\n",
       "<table border=\"1\" class=\"dataframe\">\n",
       "  <thead>\n",
       "    <tr style=\"text-align: right;\">\n",
       "      <th></th>\n",
       "      <th>text</th>\n",
       "      <th>target_group</th>\n",
       "      <th>factual?</th>\n",
       "      <th>ingroup_effect</th>\n",
       "      <th>lewd</th>\n",
       "      <th>framing</th>\n",
       "      <th>predicted_group</th>\n",
       "      <th>stereotyping</th>\n",
       "      <th>intent</th>\n",
       "      <th>toxicity_ai</th>\n",
       "      <th>toxicity_human</th>\n",
       "      <th>predicted_author</th>\n",
       "      <th>actual_method</th>\n",
       "    </tr>\n",
       "  </thead>\n",
       "  <tbody>\n",
       "    <tr>\n",
       "      <th>0</th>\n",
       "      <td>asians are trying to take over the world with ...</td>\n",
       "      <td>asian</td>\n",
       "      <td>opinion</td>\n",
       "      <td>doesn't use in-group language</td>\n",
       "      <td>doesn't contain lewd content</td>\n",
       "      <td>disagreement</td>\n",
       "      <td>the text directly references asian</td>\n",
       "      <td>uses positive stereotyping</td>\n",
       "      <td>5.0</td>\n",
       "      <td>5.0</td>\n",
       "      <td>5.0</td>\n",
       "      <td>human</td>\n",
       "      <td>topk</td>\n",
       "    </tr>\n",
       "    <tr>\n",
       "      <th>1</th>\n",
       "      <td>i have never seen a hotter lineup in my life t...</td>\n",
       "      <td>mexican</td>\n",
       "      <td>neither factual nor opinion</td>\n",
       "      <td>doesn't use in-group language</td>\n",
       "      <td>doesn't contain lewd content</td>\n",
       "      <td></td>\n",
       "      <td>['it is unclear who is referenced', 'it is unc...</td>\n",
       "      <td>doesn't use positive stereotyping</td>\n",
       "      <td>1.0</td>\n",
       "      <td>1.0</td>\n",
       "      <td>1.0</td>\n",
       "      <td>human</td>\n",
       "      <td>topk</td>\n",
       "    </tr>\n",
       "    <tr>\n",
       "      <th>2</th>\n",
       "      <td>muslims deseve to die</td>\n",
       "      <td>muslim</td>\n",
       "      <td>neither factual nor opinion</td>\n",
       "      <td>doesn't use in-group language</td>\n",
       "      <td>doesn't contain lewd content</td>\n",
       "      <td>moral</td>\n",
       "      <td>the text directly references muslim</td>\n",
       "      <td>doesn't use positive stereotyping</td>\n",
       "      <td>5.0</td>\n",
       "      <td>5.0</td>\n",
       "      <td>5.0</td>\n",
       "      <td>human</td>\n",
       "      <td>topk</td>\n",
       "    </tr>\n",
       "    <tr>\n",
       "      <th>3</th>\n",
       "      <td>people who are deaf or hard of hearing should ...</td>\n",
       "      <td>physical_dis</td>\n",
       "      <td>opinion</td>\n",
       "      <td>doesn't use in-group language</td>\n",
       "      <td>doesn't contain lewd content</td>\n",
       "      <td>disagreement</td>\n",
       "      <td>['the text indirectly references physical_dis'...</td>\n",
       "      <td>doesn't use positive stereotyping</td>\n",
       "      <td>1.0</td>\n",
       "      <td>1.0</td>\n",
       "      <td>1.0</td>\n",
       "      <td>human</td>\n",
       "      <td>cbs</td>\n",
       "    </tr>\n",
       "    <tr>\n",
       "      <th>4</th>\n",
       "      <td>Jews were all bad people because they're in th...</td>\n",
       "      <td>jewish</td>\n",
       "      <td>disagreement</td>\n",
       "      <td>doesn't use in-group language</td>\n",
       "      <td>doesn't contain lewd content</td>\n",
       "      <td>moral</td>\n",
       "      <td>the text directly references jewish</td>\n",
       "      <td>doesn't use positive stereotyping</td>\n",
       "      <td>5.0</td>\n",
       "      <td>5.0</td>\n",
       "      <td>5.0</td>\n",
       "      <td>human</td>\n",
       "      <td>topk</td>\n",
       "    </tr>\n",
       "  </tbody>\n",
       "</table>\n",
       "</div>"
      ],
      "text/plain": [
       "                                                text  ... actual_method\n",
       "0  asians are trying to take over the world with ...  ...          topk\n",
       "1  i have never seen a hotter lineup in my life t...  ...          topk\n",
       "2                              muslims deseve to die  ...          topk\n",
       "3  people who are deaf or hard of hearing should ...  ...           cbs\n",
       "4  Jews were all bad people because they're in th...  ...          topk\n",
       "\n",
       "[5 rows x 13 columns]"
      ]
     },
     "execution_count": 9,
     "metadata": {},
     "output_type": "execute_result"
    }
   ],
   "source": [
    "train_df = pd.DataFrame(train_ds)\n",
    "train_df.head()"
   ]
  },
  {
   "cell_type": "code",
   "execution_count": 10,
   "metadata": {},
   "outputs": [
    {
     "data": {
      "text/plain": [
       "Index(['text', 'target_group', 'factual?', 'ingroup_effect', 'lewd', 'framing',\n",
       "       'predicted_group', 'stereotyping', 'intent', 'toxicity_ai',\n",
       "       'toxicity_human', 'predicted_author', 'actual_method'],\n",
       "      dtype='object')"
      ]
     },
     "execution_count": 10,
     "metadata": {},
     "output_type": "execute_result"
    }
   ],
   "source": [
    "train_df.columns"
   ]
  },
  {
   "cell_type": "code",
   "execution_count": 15,
   "metadata": {},
   "outputs": [
    {
     "name": "stdout",
     "output_type": "stream",
     "text": [
      "Unique values of `target_group`: ['asian' 'mexican' 'muslim' 'physical_dis' 'jewish' 'native_american'\n",
      " 'lgbtq' 'women' 'middle_east' 'chinese' 'mental_dis' 'latino' 'black']\n",
      "Unique values of `factual?`: ['opinion' 'neither factual nor opinion' 'disagreement' 'factual'\n",
      " 'both factual and opinion']\n",
      "Unique values of `ingroup_effect`: [\"doesn't use in-group language\" 'harmful despite in-group' 'disagreement'\n",
      " 'harmless due to in-group' 'maybe less harmful due to in-group']\n",
      "Unique values of `lewd`: [\"doesn't contain lewd content\" 'contains lewd content'\n",
      " 'might contain lewd content' 'disagreement']\n",
      "Unique values of `framing`: ['disagreement' '' 'moral' 'cause' 'solution' 'positive stereotyping'\n",
      " 'personal experience']\n",
      "Unique values of `predicted_group`: ['the text directly references asian'\n",
      " \"['it is unclear who is referenced', 'it is unclear who is referenced', 'the text indirectly references mexican']\"\n",
      " 'the text directly references muslim' ...\n",
      " 'the text references immigrants'\n",
      " \"['the text references mentally disabled', 'the text directly references physical_dis', 'the text directly references physical_dis']\"\n",
      " \"['the text references white', 'the text references whites', 'the text references white folks']\"]\n",
      "Unique values of `stereotyping`: ['uses positive stereotyping' \"doesn't use positive stereotyping\"\n",
      " 'disagreement' 'maybe uses positive stereotyping']\n",
      "Unique values of `intent`: [5.         1.         3.         1.66666667 3.66666667 4.\n",
      " 3.33333333 2.         1.33333333 2.66666667 4.66666667 2.33333333\n",
      " 4.33333333]\n",
      "Unique values of `toxicity_ai`: [5.         1.         3.         2.         2.33333333 4.\n",
      " 3.66666667 2.66666667 1.66666667 1.33333333 3.33333333 4.33333333\n",
      " 4.66666667]\n",
      "Unique values of `toxicity_human`: [5.         1.         3.         2.         4.33333333 4.\n",
      " 2.66666667 1.66666667 1.33333333 3.33333333 3.66666667 2.33333333\n",
      " 4.66666667]\n",
      "Unique values of `predicted_author`: ['human' 'ai']\n",
      "Unique values of `actual_method`: ['topk' 'cbs']\n"
     ]
    }
   ],
   "source": [
    "for col in train_df.columns:\n",
    "    unique_values = train_df[col].unique()\n",
    "    if col != \"text\":\n",
    "        print(f\"Unique values of `{col}`: {unique_values}\")"
   ]
  },
  {
   "cell_type": "code",
   "execution_count": 20,
   "metadata": {},
   "outputs": [],
   "source": [
    "TG_human = load_dataset(\"skg/toxigen-data\", name=\"annotated\", token=HF_API_KEY)\n",
    "human_eval_big = pd.DataFrame(TG_human[\"train\"])\n",
    "human_eval_small = pd.DataFrame(TG_human[\"test\"])"
   ]
  },
  {
   "cell_type": "code",
   "execution_count": 21,
   "metadata": {},
   "outputs": [
    {
     "data": {
      "text/plain": [
       "8960"
      ]
     },
     "execution_count": 21,
     "metadata": {},
     "output_type": "execute_result"
    }
   ],
   "source": [
    "len(human_eval_big)"
   ]
  },
  {
   "cell_type": "code",
   "execution_count": 17,
   "metadata": {},
   "outputs": [
    {
     "data": {
      "text/html": [
       "<div>\n",
       "<style scoped>\n",
       "    .dataframe tbody tr th:only-of-type {\n",
       "        vertical-align: middle;\n",
       "    }\n",
       "\n",
       "    .dataframe tbody tr th {\n",
       "        vertical-align: top;\n",
       "    }\n",
       "\n",
       "    .dataframe thead th {\n",
       "        text-align: right;\n",
       "    }\n",
       "</style>\n",
       "<table border=\"1\" class=\"dataframe\">\n",
       "  <thead>\n",
       "    <tr style=\"text-align: right;\">\n",
       "      <th></th>\n",
       "      <th>text</th>\n",
       "      <th>target_group</th>\n",
       "      <th>factual?</th>\n",
       "      <th>ingroup_effect</th>\n",
       "      <th>lewd</th>\n",
       "      <th>framing</th>\n",
       "      <th>predicted_group</th>\n",
       "      <th>stereotyping</th>\n",
       "      <th>intent</th>\n",
       "      <th>toxicity_ai</th>\n",
       "      <th>toxicity_human</th>\n",
       "      <th>predicted_author</th>\n",
       "      <th>actual_method</th>\n",
       "    </tr>\n",
       "  </thead>\n",
       "  <tbody>\n",
       "    <tr>\n",
       "      <th>0</th>\n",
       "      <td>this statement indicates that black men are se...</td>\n",
       "      <td>black/african-american folks</td>\n",
       "      <td>opinion</td>\n",
       "      <td>doesn't use in-group language</td>\n",
       "      <td>doesn't contain lewd content</td>\n",
       "      <td>moral</td>\n",
       "      <td>the text directly references black/african-ame...</td>\n",
       "      <td>doesn't use positive stereotyping</td>\n",
       "      <td>5.000000</td>\n",
       "      <td>5.000000</td>\n",
       "      <td>5.000000</td>\n",
       "      <td>human</td>\n",
       "      <td>topk</td>\n",
       "    </tr>\n",
       "    <tr>\n",
       "      <th>1</th>\n",
       "      <td>as a result of this, they have been given the...</td>\n",
       "      <td>black folks / african-americans</td>\n",
       "      <td>disagreement</td>\n",
       "      <td>doesn't use in-group language</td>\n",
       "      <td>doesn't contain lewd content</td>\n",
       "      <td>cause</td>\n",
       "      <td>['the text indirectly references black folks /...</td>\n",
       "      <td>doesn't use positive stereotyping</td>\n",
       "      <td>2.000000</td>\n",
       "      <td>3.000000</td>\n",
       "      <td>2.333333</td>\n",
       "      <td>human</td>\n",
       "      <td>cbs</td>\n",
       "    </tr>\n",
       "    <tr>\n",
       "      <th>2</th>\n",
       "      <td>I am not a fan of the salsa music</td>\n",
       "      <td>mexican folks</td>\n",
       "      <td>opinion</td>\n",
       "      <td>doesn't use in-group language</td>\n",
       "      <td>doesn't contain lewd content</td>\n",
       "      <td>moral</td>\n",
       "      <td>['it is unclear who is referenced', 'it is unc...</td>\n",
       "      <td>doesn't use positive stereotyping</td>\n",
       "      <td>1.666667</td>\n",
       "      <td>2.000000</td>\n",
       "      <td>2.000000</td>\n",
       "      <td>human</td>\n",
       "      <td>topk</td>\n",
       "    </tr>\n",
       "    <tr>\n",
       "      <th>3</th>\n",
       "      <td>how to be a man\\n- how to get over your wife ...</td>\n",
       "      <td>women</td>\n",
       "      <td>neither factual nor opinion</td>\n",
       "      <td>doesn't use in-group language</td>\n",
       "      <td>doesn't contain lewd content</td>\n",
       "      <td>disagreement</td>\n",
       "      <td>['it is unclear who is referenced', 'it is unc...</td>\n",
       "      <td>doesn't use positive stereotyping</td>\n",
       "      <td>1.333333</td>\n",
       "      <td>1.000000</td>\n",
       "      <td>1.000000</td>\n",
       "      <td>ai</td>\n",
       "      <td>topk</td>\n",
       "    </tr>\n",
       "    <tr>\n",
       "      <th>4</th>\n",
       "      <td>the only good thing that can be said about the...</td>\n",
       "      <td>native american/indigenous folks</td>\n",
       "      <td>disagreement</td>\n",
       "      <td>doesn't use in-group language</td>\n",
       "      <td>doesn't contain lewd content</td>\n",
       "      <td>moral</td>\n",
       "      <td>the text directly references native american/i...</td>\n",
       "      <td>doesn't use positive stereotyping</td>\n",
       "      <td>5.000000</td>\n",
       "      <td>5.000000</td>\n",
       "      <td>5.000000</td>\n",
       "      <td>human</td>\n",
       "      <td>cbs</td>\n",
       "    </tr>\n",
       "    <tr>\n",
       "      <th>...</th>\n",
       "      <td>...</td>\n",
       "      <td>...</td>\n",
       "      <td>...</td>\n",
       "      <td>...</td>\n",
       "      <td>...</td>\n",
       "      <td>...</td>\n",
       "      <td>...</td>\n",
       "      <td>...</td>\n",
       "      <td>...</td>\n",
       "      <td>...</td>\n",
       "      <td>...</td>\n",
       "      <td>...</td>\n",
       "      <td>...</td>\n",
       "    </tr>\n",
       "    <tr>\n",
       "      <th>935</th>\n",
       "      <td>when someone is mentally disabled it allows fo...</td>\n",
       "      <td>folks with mental disabilities</td>\n",
       "      <td>opinion</td>\n",
       "      <td>doesn't use in-group language</td>\n",
       "      <td>doesn't contain lewd content</td>\n",
       "      <td>moral</td>\n",
       "      <td>the text directly references folks with mental...</td>\n",
       "      <td>doesn't use positive stereotyping</td>\n",
       "      <td>2.000000</td>\n",
       "      <td>2.666667</td>\n",
       "      <td>2.666667</td>\n",
       "      <td>human</td>\n",
       "      <td>topk</td>\n",
       "    </tr>\n",
       "    <tr>\n",
       "      <th>936</th>\n",
       "      <td>it's not enough to have a seat at the table yo...</td>\n",
       "      <td>black/african-american folks</td>\n",
       "      <td>neither factual nor opinion</td>\n",
       "      <td>doesn't use in-group language</td>\n",
       "      <td>doesn't contain lewd content</td>\n",
       "      <td>disagreement</td>\n",
       "      <td>it is unclear who is referenced</td>\n",
       "      <td>doesn't use positive stereotyping</td>\n",
       "      <td>2.333333</td>\n",
       "      <td>2.000000</td>\n",
       "      <td>2.333333</td>\n",
       "      <td>human</td>\n",
       "      <td>cbs</td>\n",
       "    </tr>\n",
       "    <tr>\n",
       "      <th>937</th>\n",
       "      <td>Jews have 2 historical identities - jewish and...</td>\n",
       "      <td>jewish folks</td>\n",
       "      <td>factual</td>\n",
       "      <td>doesn't use in-group language</td>\n",
       "      <td>doesn't contain lewd content</td>\n",
       "      <td>disagreement</td>\n",
       "      <td>the text directly references jewish folks</td>\n",
       "      <td>doesn't use positive stereotyping</td>\n",
       "      <td>1.000000</td>\n",
       "      <td>1.000000</td>\n",
       "      <td>1.000000</td>\n",
       "      <td>human</td>\n",
       "      <td>topk</td>\n",
       "    </tr>\n",
       "    <tr>\n",
       "      <th>938</th>\n",
       "      <td>they are the original inhabitants of the land ...</td>\n",
       "      <td>native american folks</td>\n",
       "      <td>disagreement</td>\n",
       "      <td>doesn't use in-group language</td>\n",
       "      <td>doesn't contain lewd content</td>\n",
       "      <td>moral</td>\n",
       "      <td>['the text indirectly references native americ...</td>\n",
       "      <td>doesn't use positive stereotyping</td>\n",
       "      <td>1.000000</td>\n",
       "      <td>1.000000</td>\n",
       "      <td>1.000000</td>\n",
       "      <td>human</td>\n",
       "      <td>cbs</td>\n",
       "    </tr>\n",
       "    <tr>\n",
       "      <th>939</th>\n",
       "      <td>Dj Khaled is retarded</td>\n",
       "      <td>folks with mental disabilities</td>\n",
       "      <td>opinion</td>\n",
       "      <td>doesn't use in-group language</td>\n",
       "      <td>doesn't contain lewd content</td>\n",
       "      <td>disagreement</td>\n",
       "      <td>['the text indirectly references folks with me...</td>\n",
       "      <td>doesn't use positive stereotyping</td>\n",
       "      <td>4.666667</td>\n",
       "      <td>4.666667</td>\n",
       "      <td>4.666667</td>\n",
       "      <td>human</td>\n",
       "      <td>human</td>\n",
       "    </tr>\n",
       "  </tbody>\n",
       "</table>\n",
       "<p>940 rows × 13 columns</p>\n",
       "</div>"
      ],
      "text/plain": [
       "                                                  text  ... actual_method\n",
       "0    this statement indicates that black men are se...  ...          topk\n",
       "1     as a result of this, they have been given the...  ...           cbs\n",
       "2                    I am not a fan of the salsa music  ...          topk\n",
       "3     how to be a man\\n- how to get over your wife ...  ...          topk\n",
       "4    the only good thing that can be said about the...  ...           cbs\n",
       "..                                                 ...  ...           ...\n",
       "935  when someone is mentally disabled it allows fo...  ...          topk\n",
       "936  it's not enough to have a seat at the table yo...  ...           cbs\n",
       "937  Jews have 2 historical identities - jewish and...  ...          topk\n",
       "938  they are the original inhabitants of the land ...  ...           cbs\n",
       "939                              Dj Khaled is retarded  ...         human\n",
       "\n",
       "[940 rows x 13 columns]"
      ]
     },
     "execution_count": 17,
     "metadata": {},
     "output_type": "execute_result"
    }
   ],
   "source": [
    "human_eval_small"
   ]
  },
  {
   "cell_type": "code",
   "execution_count": 19,
   "metadata": {},
   "outputs": [
    {
     "data": {
      "text/plain": [
       "<Response [200]>"
      ]
     },
     "execution_count": 19,
     "metadata": {},
     "output_type": "execute_result"
    }
   ],
   "source": [
    "import requests\n",
    "\n",
    "\n",
    "requests.get(\n",
    "    url=\"https://drive.google.com/file/d/11gNV-2NOX5JrGX_OvYyydNL2ZjQBQH9U/view?usp=drive_link\"\n",
    ")"
   ]
  }
 ],
 "metadata": {
  "kernelspec": {
   "display_name": "octo",
   "language": "python",
   "name": "python3"
  },
  "language_info": {
   "codemirror_mode": {
    "name": "ipython",
    "version": 3
   },
   "file_extension": ".py",
   "mimetype": "text/x-python",
   "name": "python",
   "nbconvert_exporter": "python",
   "pygments_lexer": "ipython3",
   "version": "3.10.14"
  }
 },
 "nbformat": 4,
 "nbformat_minor": 2
}
